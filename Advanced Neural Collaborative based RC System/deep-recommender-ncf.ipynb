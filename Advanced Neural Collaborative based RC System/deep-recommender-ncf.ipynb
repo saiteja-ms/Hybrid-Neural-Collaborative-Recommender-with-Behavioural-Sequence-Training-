{
 "cells": [
  {
   "cell_type": "markdown",
   "id": "serial-tiffany",
   "metadata": {},
   "source": [
    "# Deep Recommender: Neural Collaborative Filtering\n",
    "\n",
    "This is a prototype of a hybrid recommender that combines behavioral data (rating matrix) with content data (natural language descriptions of the items).  \n",
    "\n",
    "### Use Case\n",
    "Similar to the basic user/item-based collaborative filtering, we assume a fixed number of users and items and a collection of user-item pairs with known interaction scores (e.g. user ratings). We also assume additional unstructured data such as natural langage descriptions and images to be available for the items. Our goal is to estimate the scores for the user-item pairs where we do not have the data yet. \n",
    "\n",
    "### Prototype: Approach and Data\n",
    "We start with building a basic neural network that replicate the matrix factorization algorithm (classic collaborative filtering). We next extend this basic network to incorporate item features (embeddings) extracted using a pre-trained NLP model. We use `MovieLens 20M` dataset - see `datasets.md` for details.\n",
    "\n",
    "### Usage and Productization\n",
    "This prototype can be used to explore various model architectures and gains achieved by including user and/or item features. The feature embeddings can be computed using an external (frozen) network or jointly optimized with the main factorization network.   "
   ]
  },
  {
   "cell_type": "code",
   "execution_count": 1,
   "id": "regular-choir",
   "metadata": {},
   "outputs": [
    {
     "name": "stdout",
     "output_type": "stream",
     "text": [
      "Keras version 2.6.0\n",
      "Tensorflow version 2.6.0\n"
     ]
    }
   ],
   "source": [
    "#\n",
    "# Imports and settings\n",
    "#\n",
    "import numpy as np\n",
    "import pandas as pd\n",
    "import warnings\n",
    "from tabulate import tabulate\n",
    "\n",
    "import tensorflow as tf\n",
    "from tensorflow.keras.models import Model\n",
    "from tensorflow.keras.layers import Input, Embedding, Dense, Dot, Flatten, Concatenate, Add\n",
    "from sklearn.model_selection import train_test_split\n",
    "\n",
    "from sentence_transformers import SentenceTransformer\n",
    "\n",
    "import seaborn as sns\n",
    "import matplotlib.pyplot as plt\n",
    "plt.rcParams.update({'pdf.fonttype': 'truetype'})\n",
    "warnings.simplefilter(\"ignore\")\n",
    "\n",
    "print(\"Keras version \" + tf.keras.__version__)\n",
    "print(\"Tensorflow version \" + tf.__version__)"
   ]
  },
  {
   "cell_type": "code",
   "execution_count": 2,
   "id": "persistent-travel",
   "metadata": {},
   "outputs": [],
   "source": [
    "#\n",
    "# Helper functions\n",
    "#\n",
    "def print_df(df, col_width = 10, rows = 10, max_cols = 10):\n",
    "    def short_srt(x):\n",
    "        return x if len(x) < col_width else x[:col_width-3] + \"...\"\n",
    "    df_short = df.head(rows).applymap(lambda x: short_srt(str(x)))\n",
    "    \n",
    "    if len(df_short.columns) > max_cols:\n",
    "        df_short = df_short.iloc[:, 0:max_cols-1]\n",
    "        df_short['...'] = '...'\n",
    "    \n",
    "    print(tabulate(df_short, headers='keys', tablefmt='psql'))\n",
    "    print(f'{len(df)} rows x {len(df.columns)} columns')\n",
    "    \n",
    "def plot_keras_training_hitory(history):\n",
    "    plt.plot(history.history['loss']);\n",
    "    plt.plot(history.history['val_loss']);\n",
    "    plt.xlabel('Training epoch')\n",
    "    plt.ylabel('Loss')\n",
    "    plt.legend(['train', 'validation'], loc='upper left')\n",
    "    plt.grid(True)"
   ]
  },
  {
   "cell_type": "markdown",
   "id": "excessive-camera",
   "metadata": {},
   "source": [
    "# Load Data\n",
    "\n",
    "Load movie ratings and tags from the MovieLens 10M dataset."
   ]
  },
  {
   "cell_type": "code",
   "execution_count": 3,
   "id": "particular-detroit",
   "metadata": {},
   "outputs": [
    {
     "name": "stdout",
     "output_type": "stream",
     "text": [
      "+----+-----------+--------------------------------+--------------------------------+--------------------------------+\n",
      "|    |   item_id | title                          | genres                         | tag                            |\n",
      "|----+-----------+--------------------------------+--------------------------------+--------------------------------|\n",
      "|  0 |         0 | Toy Story (1995)               | Adventure|Animation|Childre... | watched computer animation ... |\n",
      "|  1 |         1 | Jumanji (1995)                 | Adventure|Children|Fantasy     | time travel adapted from:bo... |\n",
      "|  2 |         2 | Grumpier Old Men (1995)        | Comedy|Romance                 | old people that is actually... |\n",
      "|  4 |         3 | Father of the Bride Part II... | Comedy                         | diane keaton family sequel ... |\n",
      "|  5 |         4 | Heat (1995)                    | Action|Crime|Thriller          | realistic action al pacino ... |\n",
      "|  6 |         5 | Sabrina (1995)                 | Comedy|Romance                 | greg kinnear romance remade... |\n",
      "|  9 |         6 | GoldenEye (1995)               | Action|Adventure|Thriller      | 007 (series) assassin kille... |\n",
      "| 10 |         7 | American President, The (19... | Comedy|Drama|Romance           | president president us pres... |\n",
      "| 13 |         8 | Nixon (1995)                   | Drama                          | biopic character based on r... |\n",
      "| 14 |         9 | Cutthroat Island (1995)        | Action|Adventure|Romance       | pirates treasure action adv... |\n",
      "+----+-----------+--------------------------------+--------------------------------+--------------------------------+\n",
      "4744 rows x 4 columns\n",
      "+----+-----------+-----------+----------+-------------+\n",
      "|    |   user_id |   item_id |   rating | timestamp   |\n",
      "|----+-----------+-----------+----------+-------------|\n",
      "|  0 |         0 |         1 |        4 | 1112486...  |\n",
      "|  1 |         0 |        21 |        4 | 1112484...  |\n",
      "|  2 |         0 |        23 |        4 | 1112484...  |\n",
      "|  3 |         0 |        31 |        4 | 1112484...  |\n",
      "|  4 |         0 |        33 |        4 | 1112484...  |\n",
      "|  5 |         0 |        52 |        4 | 1094785...  |\n",
      "|  6 |         0 |        62 |        4 | 1094785...  |\n",
      "|  7 |         0 |        95 |        4 | 1112485...  |\n",
      "|  8 |         0 |       108 |        4 | 1112484...  |\n",
      "|  9 |         0 |       110 |        4 | 1112484...  |\n",
      "+----+-----------+-----------+----------+-------------+\n",
      "15324463 rows x 4 columns\n",
      "Max user id: 78407, max item id: 4743\n"
     ]
    }
   ],
   "source": [
    "#\n",
    "# Raw data\n",
    "# \n",
    "base_data_path = 'ml-20m'\n",
    "items = pd.read_csv(base_data_path + '/movies.csv', sep=',', skiprows=1, \n",
    "                     names=['item_id', 'title', 'genres'])\n",
    "ratings = pd.read_csv(base_data_path + '/ratings.csv', sep=',', skiprows=1,\n",
    "                      names=['user_id', 'item_id', 'rating', 'timestamp'])\n",
    "tags = pd.read_csv(base_data_path + '/tags.csv', sep=',', skiprows=1,\n",
    "                      names=['user_id', 'item_id', 'tag', 'timestamp'])\n",
    "\n",
    "#\n",
    "# Concatenate tags\n",
    "#\n",
    "tags_flat = tags[['item_id', 'tag']]\\\n",
    "    .groupby(by=['item_id'])['tag']\\\n",
    "    .apply(list)\\\n",
    "    .apply(lambda x: ' '.join(list(map(str, x))))\\\n",
    "    .apply(str.lower)\n",
    "items = items.join(tags_flat, on='item_id')\n",
    "\n",
    "#\n",
    "# Preprocessing\n",
    "#\n",
    "\n",
    "# Remove movies with short tag lines\n",
    "items = items[items['tag'].str.len() > 200]\n",
    "ratings = ratings[ratings['item_id'].isin(items['item_id'].unique())] \n",
    "# Remove users with less than 50 ratings\n",
    "ratings = ratings[ratings.groupby(by='user_id')['user_id'].transform('size') > 50] \n",
    "ratings['rating'] = ratings['rating'].round(0).astype(int)\n",
    "\n",
    "# Remap user and item IDs to sequental integers \n",
    "n_users, n_items = ratings['user_id'].nunique(), ratings['item_id'].nunique()\n",
    "item_id_lookup = { old_id:new_id for (old_id, new_id) in zip(items['item_id'].values, np.arange(n_items)) }\n",
    "items['item_id'] = items['item_id'].apply(lambda x: item_id_lookup[x])\n",
    "ratings['item_id'] = ratings['item_id'].apply(lambda x: item_id_lookup[x])\n",
    "\n",
    "user_id_lookup = { old_id:new_id for (old_id, new_id) in zip(ratings['user_id'].unique(), np.arange(n_users)) }\n",
    "ratings['user_id'] = ratings['user_id'].apply(lambda x: user_id_lookup[x])\n",
    "\n",
    "print_df(items, col_width = 30)\n",
    "print_df(ratings)\n",
    "\n",
    "#\n",
    "# Calculate statistics and limits\n",
    "#\n",
    "user_ids, item_ids = ratings['user_id'].unique(), ratings['item_id'].unique()\n",
    "max_user_id, max_item_id = max(ratings['user_id']), max(ratings['item_id'])\n",
    "print(f'Max user id: {max_user_id}, max item id: {max_item_id}')"
   ]
  },
  {
   "cell_type": "code",
   "execution_count": 6,
   "id": "seven-client",
   "metadata": {},
   "outputs": [
    {
     "data": {
      "image/png": "[encoded data removed]",
      "text/plain": [
       "<Figure size 576x576 with 4 Axes>"
      ]
     },
     "metadata": {
      "needs_background": "light"
     },
     "output_type": "display_data"
    }
   ],
   "source": [
    "#\n",
    "# Visualize the main statistics\n",
    "#\n",
    "fig, ax = plt.subplots(4, 1, figsize=(8, 8) )\n",
    "for i, c in enumerate(['user_id', 'item_id']):\n",
    "    sns.distplot(ratings.groupby(by=[c]).count().iloc[:, 0].values, kde=False, ax=ax[i], \n",
    "                 axlabel=f'Ratings per {c}', color='red', hist_kws=dict(alpha=1))\n",
    "    ax[i].grid(True)\n",
    "    \n",
    "rating_frequencies = ratings.groupby(by=['rating']).count().iloc[:, 0]\n",
    "ax[2].bar(rating_frequencies.index, rating_frequencies, color='red', width=.3)\n",
    "ax[2].grid(True)\n",
    "ax[2].set_xlabel('Ratings per rating value (stars)')\n",
    "plt.tight_layout()\n",
    "\n",
    "tag_frequencies = tags.groupby(by=['item_id']).count().iloc[:, 0].values\n",
    "sns.distplot(tag_frequencies, kde=False, ax=ax[3], \n",
    "                 axlabel=f'Tags per item', color='red', hist_kws=dict(alpha=1))\n",
    "ax[3].grid(True)\n",
    "plt.tight_layout()"
   ]
  },
  {
   "cell_type": "code",
   "execution_count": 4,
   "id": "minus-pacific",
   "metadata": {},
   "outputs": [],
   "source": [
    "#\n",
    "# Fix the train-test split\n",
    "#\n",
    "n = ratings.shape[0]\n",
    "train_idx, test_idx, _, _ = train_test_split(np.arange(n), np.arange(n), test_size=0.20, random_state=42)"
   ]
  },
  {
   "cell_type": "markdown",
   "id": "sophisticated-welding",
   "metadata": {},
   "source": [
    "# Model 1: Neural Collaborative Filtering (Factorization Network)\n",
    "\n",
    "In this section, we train and evaluate a basic network that replicates the standard matrix factorization algorithm."
   ]
  },
  {
   "cell_type": "code",
   "execution_count": 11,
   "id": "sexual-election",
   "metadata": {},
   "outputs": [
    {
     "name": "stdout",
     "output_type": "stream",
     "text": [
      "Epoch 1/16\n",
      "47889/47889 [==============================] - 94s 2ms/step - loss: 0.8033 - root_mean_squared_error: 0.8962 - val_loss: 0.6982 - val_root_mean_squared_error: 0.8356\n",
      "Epoch 2/16\n",
      "47889/47889 [==============================] - 94s 2ms/step - loss: 0.6698 - root_mean_squared_error: 0.8184 - val_loss: 0.6734 - val_root_mean_squared_error: 0.8206\n",
      "Epoch 3/16\n",
      "47889/47889 [==============================] - 93s 2ms/step - loss: 0.6491 - root_mean_squared_error: 0.8056 - val_loss: 0.6664 - val_root_mean_squared_error: 0.8164\n",
      "Epoch 4/16\n",
      "47889/47889 [==============================] - 93s 2ms/step - loss: 0.6404 - root_mean_squared_error: 0.8002 - val_loss: 0.6814 - val_root_mean_squared_error: 0.8255\n",
      "Epoch 5/16\n",
      "47889/47889 [==============================] - 94s 2ms/step - loss: 0.6354 - root_mean_squared_error: 0.7971 - val_loss: 0.6820 - val_root_mean_squared_error: 0.8258\n",
      "Epoch 6/16\n",
      "47889/47889 [==============================] - 93s 2ms/step - loss: 0.6323 - root_mean_squared_error: 0.7952 - val_loss: 0.6614 - val_root_mean_squared_error: 0.8132\n",
      "Epoch 7/16\n",
      "47889/47889 [==============================] - 93s 2ms/step - loss: 0.6301 - root_mean_squared_error: 0.7938 - val_loss: 0.6724 - val_root_mean_squared_error: 0.8200\n",
      "Epoch 8/16\n",
      "47889/47889 [==============================] - 93s 2ms/step - loss: 0.6283 - root_mean_squared_error: 0.7926 - val_loss: 0.6613 - val_root_mean_squared_error: 0.8132\n",
      "Epoch 9/16\n",
      "47889/47889 [==============================] - 94s 2ms/step - loss: 0.6269 - root_mean_squared_error: 0.7918 - val_loss: 0.6922 - val_root_mean_squared_error: 0.8320\n",
      "Epoch 10/16\n",
      "47889/47889 [==============================] - 93s 2ms/step - loss: 0.6260 - root_mean_squared_error: 0.7912 - val_loss: 0.6601 - val_root_mean_squared_error: 0.8125\n",
      "Epoch 11/16\n",
      "47889/47889 [==============================] - 94s 2ms/step - loss: 0.6253 - root_mean_squared_error: 0.7907 - val_loss: 0.7001 - val_root_mean_squared_error: 0.8367\n",
      "Epoch 12/16\n",
      "47889/47889 [==============================] - 93s 2ms/step - loss: 0.6246 - root_mean_squared_error: 0.7903 - val_loss: 0.6673 - val_root_mean_squared_error: 0.8169\n",
      "Epoch 13/16\n",
      "47889/47889 [==============================] - 93s 2ms/step - loss: 0.6238 - root_mean_squared_error: 0.7898 - val_loss: 0.6614 - val_root_mean_squared_error: 0.8133\n",
      "Epoch 14/16\n",
      "47889/47889 [==============================] - 94s 2ms/step - loss: 0.6237 - root_mean_squared_error: 0.7897 - val_loss: 0.6603 - val_root_mean_squared_error: 0.8126\n",
      "Epoch 15/16\n",
      "47889/47889 [==============================] - 93s 2ms/step - loss: 0.6230 - root_mean_squared_error: 0.7893 - val_loss: 0.6613 - val_root_mean_squared_error: 0.8132\n",
      "Epoch 16/16\n",
      "47889/47889 [==============================] - 94s 2ms/step - loss: 0.6227 - root_mean_squared_error: 0.7891 - val_loss: 0.6677 - val_root_mean_squared_error: 0.8171\n"
     ]
    },
    {
     "data": {
      "image/png": "[encoded data removed]",
      "text/plain": [
       "<Figure size 432x288 with 1 Axes>"
      ]
     },
     "metadata": {
      "needs_background": "light"
     },
     "output_type": "display_data"
    }
   ],
   "source": [
    "x_train, x_test = ratings[['user_id', 'item_id']].values[train_idx], ratings[['user_id', 'item_id']].values[test_idx]\n",
    "y_train, y_test = ratings['rating'].values[train_idx], ratings['rating'].values[test_idx]\n",
    "\n",
    "#\n",
    "# Model specification\n",
    "#\n",
    "embedding_dim = 8\n",
    "\n",
    "input_user = Input(shape=(1,))\n",
    "input_item = Input(shape=(1,))\n",
    "\n",
    "embedding_user = Embedding(input_dim=max_user_id + 1, output_dim=embedding_dim)(input_user)\n",
    "embedding_item = Embedding(input_dim=max_item_id + 1, output_dim=embedding_dim)(input_item)\n",
    "\n",
    "combined = Dot(axes=2)([embedding_user, embedding_item])\n",
    "\n",
    "score = Dense(1, activation='linear')(combined)\n",
    "\n",
    "model_sgd = Model(inputs=[input_user, input_item], outputs=score)\n",
    "\n",
    "#\n",
    "# Model training\n",
    "#\n",
    "opt = tf.keras.optimizers.Adam(learning_rate=0.01)\n",
    "model_sgd.compile(optimizer=opt, loss='mse', metrics=[tf.keras.metrics.RootMeanSquaredError()]) \n",
    "history_sgd = model_sgd.fit([x_train[:, 0], x_train[:, 1]], y_train, \n",
    "                    batch_size=256, epochs=16, verbose=1, \n",
    "                    validation_data=([x_test[:, 0], x_test[:, 1]], y_test)) \n",
    "\n",
    "plot_keras_training_hitory(history_sgd)"
   ]
  },
  {
   "cell_type": "code",
   "execution_count": 12,
   "id": "skilled-restaurant",
   "metadata": {},
   "outputs": [
    {
     "data": {
      "image/png": "[encoded data removed]",
      "text/plain": [
       "<Figure size 720x432 with 1 Axes>"
      ]
     },
     "metadata": {
      "needs_background": "light"
     },
     "output_type": "display_data"
    }
   ],
   "source": [
    "y_test_hat = model_sgd.predict([x_test[:, 0], x_test[:, 1]])[:, 0, 0]\n",
    "plot_data = pd.DataFrame(np.vstack([y_test, y_test_hat]).T, columns=['Rating', 'Predicted rating'])\n",
    "fig, ax = plt.subplots(1, figsize=(10, 6))\n",
    "sns.violinplot(data=plot_data, x = \"Rating\", y = \"Predicted rating\", ax=ax)\n",
    "plt.grid(True)"
   ]
  },
  {
   "cell_type": "code",
   "execution_count": 14,
   "id": "flexible-apache",
   "metadata": {},
   "outputs": [
    {
     "name": "stdout",
     "output_type": "stream",
     "text": [
      "+-----+----------------------------------------------------+----------+\n",
      "|     | title                                              |   rating |\n",
      "|-----+----------------------------------------------------+----------|\n",
      "| 121 | Lord of the Rings: The Fellowship of the Ring, ... |        5 |\n",
      "| 155 | Freaks (1932)                                      |        5 |\n",
      "| 131 | Lord of the Rings: The Two Towers, The (2002)      |        5 |\n",
      "| 145 | Lord of the Rings: The Return of the King, The ... |        5 |\n",
      "|   0 | Jumanji (1995)                                     |        4 |\n",
      "| 106 | O Brother, Where Art Thou? (2000)                  |        4 |\n",
      "| 100 | Hook (1991)                                        |        4 |\n",
      "| 101 | Misery (1990)                                      |        4 |\n",
      "| 103 | Crouching Tiger, Hidden Dragon (Wo hu cang long... |        4 |\n",
      "| 104 | Dungeons & Dragons (2000)                          |        4 |\n",
      "+-----+----------------------------------------------------+----------+\n",
      "160 rows x 2 columns\n",
      "+----+----------------------------------------------+----------+\n",
      "|    | title                                        |   rating |\n",
      "|----+----------------------------------------------+----------|\n",
      "|  0 | Foodfight! (2012)                            |  5.33404 |\n",
      "|  1 | Cowspiracy: The Sustainability Secret (2014) |  4.8014  |\n",
      "|  2 | Killers from Space (1954)                    |  4.60296 |\n",
      "|  3 | Frank (2014)                                 |  4.59485 |\n",
      "|  4 | Tokyo Drifter (Tôkyô nagaremono) (1966)      |  4.53437 |\n",
      "|  5 | Seeing Other People (2004)                   |  4.52857 |\n",
      "|  6 | Hobbit, The (1977)                           |  4.5259  |\n",
      "|  7 | V/H/S/2 (2013)                               |  4.50467 |\n",
      "|  8 | East, The (2013)                             |  4.50435 |\n",
      "|  9 | Pillars of the Earth, The (2010)             |  4.50202 |\n",
      "+----+----------------------------------------------+----------+\n",
      "10 rows x 2 columns\n"
     ]
    }
   ],
   "source": [
    "def get_items(user_id):\n",
    "    u_items = ratings[ratings['user_id'] == user_id].merge(items, on='item_id', how='left')\n",
    "    return u_items[['title', 'rating']].sort_values(by=['rating'], ascending=False)\n",
    "\n",
    "def recommend_for_user(model, user_id, k):\n",
    "    x1, x2 = np.repeat(user_id, n_items), item_ids\n",
    "    ratings = model.predict([x1, x2]).ravel()\n",
    "    top_k_indexes = ratings.argsort()[-k:][::-1]\n",
    "    return x2[top_k_indexes], ratings[top_k_indexes]\n",
    "\n",
    "def show_recommendations(r_items, r_ratings):\n",
    "    r = pd.DataFrame(data=np.vstack([r_items, r_ratings]).T, columns=['item_id', 'rating'])\n",
    "    print_df(r.merge(items, on='item_id', how='left')[['title', 'rating']], col_width = 50)\n",
    "\n",
    "#\n",
    "# Generate recommendations for an example user\n",
    "#\n",
    "user_id = 0\n",
    "k_recomendations = 10\n",
    "print_df(get_items(user_id), col_width = 50, rows = 10)\n",
    "r_items, r_ratings = recommend_for_user(model_sgd, user_id, k_recomendations)\n",
    "show_recommendations(r_items, r_ratings)"
   ]
  },
  {
   "cell_type": "markdown",
   "id": "pending-treasure",
   "metadata": {},
   "source": [
    "# Model 2: Network with Item Features\n",
    "\n",
    "In this section, we build a simple extension of the basic neural collaborative filtering network to incroporate embeddigns produced based movie tags. \n",
    "\n",
    "We create item embeddigns by concatenating all movie tags into pseudo-sentence and encoding it using a pre-trained MiniLM model."
   ]
  },
  {
   "cell_type": "code",
   "execution_count": 5,
   "id": "indonesian-bruce",
   "metadata": {},
   "outputs": [
    {
     "name": "stdout",
     "output_type": "stream",
     "text": [
      "Item features shape: (15324463, 384)\n"
     ]
    }
   ],
   "source": [
    "text_model = SentenceTransformer('all-MiniLM-L6-v2')\n",
    "items['item_features'] = items['tag'].transform(text_model.encode)\n",
    "\n",
    "item_features_r = ratings.merge(items[['item_id', 'item_features']], on='item_id')['item_features']\n",
    "item_features_r = np.vstack(item_features_r)\n",
    "print(f'Item features shape: {item_features_r.shape}')\n",
    "feature_dim = item_features_r.shape[1]\n",
    "\n",
    "x1_train, x2_train, x3_train = ratings['user_id'].values[train_idx], ratings['item_id'].values[train_idx], item_features_r[train_idx]\n",
    "x1_test, x2_test, x3_test = ratings['user_id'].values[test_idx], ratings['item_id'].values[test_idx], item_features_r[test_idx]\n",
    "y_train, y_test = ratings['rating'].values[train_idx], ratings['rating'].values[test_idx]\n",
    "\n",
    "del item_features_r"
   ]
  },
  {
   "cell_type": "code",
   "execution_count": 6,
   "id": "breathing-colon",
   "metadata": {},
   "outputs": [
    {
     "name": "stdout",
     "output_type": "stream",
     "text": [
      "Epoch 1/16\n",
      "47889/47889 [==============================] - 105s 2ms/step - loss: 0.9548 - root_mean_squared_error: 0.9771 - val_loss: 0.7311 - val_root_mean_squared_error: 0.8550\n",
      "Epoch 2/16\n",
      "47889/47889 [==============================] - 100s 2ms/step - loss: 0.6958 - root_mean_squared_error: 0.8342 - val_loss: 0.6848 - val_root_mean_squared_error: 0.8275\n",
      "Epoch 3/16\n",
      "47889/47889 [==============================] - 100s 2ms/step - loss: 0.6582 - root_mean_squared_error: 0.8113 - val_loss: 0.6700 - val_root_mean_squared_error: 0.8185\n",
      "Epoch 4/16\n",
      "47889/47889 [==============================] - 99s 2ms/step - loss: 0.6395 - root_mean_squared_error: 0.7997 - val_loss: 0.6619 - val_root_mean_squared_error: 0.8136\n",
      "Epoch 5/16\n",
      "47889/47889 [==============================] - 99s 2ms/step - loss: 0.6288 - root_mean_squared_error: 0.7930 - val_loss: 0.6579 - val_root_mean_squared_error: 0.8111\n",
      "Epoch 6/16\n",
      "47889/47889 [==============================] - 99s 2ms/step - loss: 0.6223 - root_mean_squared_error: 0.7889 - val_loss: 0.6554 - val_root_mean_squared_error: 0.8096\n",
      "Epoch 7/16\n",
      "47889/47889 [==============================] - 99s 2ms/step - loss: 0.6178 - root_mean_squared_error: 0.7860 - val_loss: 0.6547 - val_root_mean_squared_error: 0.8091\n",
      "Epoch 8/16\n",
      "47889/47889 [==============================] - 99s 2ms/step - loss: 0.6145 - root_mean_squared_error: 0.7839 - val_loss: 0.6532 - val_root_mean_squared_error: 0.8082\n",
      "Epoch 9/16\n",
      "47889/47889 [==============================] - 99s 2ms/step - loss: 0.6120 - root_mean_squared_error: 0.7823 - val_loss: 0.6536 - val_root_mean_squared_error: 0.8084\n",
      "Epoch 10/16\n",
      "47889/47889 [==============================] - 100s 2ms/step - loss: 0.6099 - root_mean_squared_error: 0.7810 - val_loss: 0.6520 - val_root_mean_squared_error: 0.8075\n",
      "Epoch 11/16\n",
      "47889/47889 [==============================] - 99s 2ms/step - loss: 0.6082 - root_mean_squared_error: 0.7799 - val_loss: 0.6517 - val_root_mean_squared_error: 0.8073\n",
      "Epoch 12/16\n",
      "47889/47889 [==============================] - 99s 2ms/step - loss: 0.6068 - root_mean_squared_error: 0.7789 - val_loss: 0.6511 - val_root_mean_squared_error: 0.8069\n",
      "Epoch 13/16\n",
      "47889/47889 [==============================] - 99s 2ms/step - loss: 0.6055 - root_mean_squared_error: 0.7782 - val_loss: 0.6518 - val_root_mean_squared_error: 0.8073\n",
      "Epoch 14/16\n",
      "47889/47889 [==============================] - 99s 2ms/step - loss: 0.6044 - root_mean_squared_error: 0.7775 - val_loss: 0.6513 - val_root_mean_squared_error: 0.8070\n",
      "Epoch 15/16\n",
      "47889/47889 [==============================] - 99s 2ms/step - loss: 0.6035 - root_mean_squared_error: 0.7768 - val_loss: 0.6508 - val_root_mean_squared_error: 0.8067\n",
      "Epoch 16/16\n",
      "47889/47889 [==============================] - 99s 2ms/step - loss: 0.6026 - root_mean_squared_error: 0.7763 - val_loss: 0.6510 - val_root_mean_squared_error: 0.8068\n"
     ]
    },
    {
     "data": {
      "image/png": "[encoded data removed]",
      "text/plain": [
       "<Figure size 432x288 with 1 Axes>"
      ]
     },
     "metadata": {
      "needs_background": "light"
     },
     "output_type": "display_data"
    }
   ],
   "source": [
    "def model_hybrid(embedding_dim):\n",
    "    input_user = Input(shape=(1,))\n",
    "    input_item = Input(shape=(1,))\n",
    "    input_item_e = Input(shape=(feature_dim,))\n",
    "    \n",
    "    embedding_user = Embedding(input_dim=max_user_id + 1, output_dim=embedding_dim)(input_user)\n",
    "    embedding_item = Embedding(input_dim=max_item_id + 1, output_dim=embedding_dim)(input_item)\n",
    "\n",
    "    #e1 = Flatten()(embedding_user)\n",
    "    #e2 = Flatten()(embedding_item)\n",
    "    e1 = embedding_user\n",
    "    e2 = embedding_item\n",
    "    \n",
    "    t = Dense(embedding_dim, activation='relu')(input_item_e)\n",
    "    e2 = Add()([e2, t])\n",
    "    #e2 = Dense(embedding_dim, activation='relu')(e2)\n",
    "\n",
    "    combined = Dot(axes=2)([e1, e2])\n",
    "    rating = Dense(1, activation='linear')(combined)\n",
    "\n",
    "    model = Model(inputs=[input_user, input_item, input_item_e], outputs=rating)\n",
    "    \n",
    "    return model\n",
    "\n",
    "#\n",
    "# Model training\n",
    "# \n",
    "model_hybrid_k = model_hybrid(embedding_dim = 8)\n",
    "model_hybrid_k.compile(optimizer='adam', loss='mse', metrics=[tf.keras.metrics.RootMeanSquaredError()]) \n",
    "history_hybrid = model_hybrid_k.fit([x1_train, x2_train, x3_train], y_train, \n",
    "                           batch_size=256, \n",
    "                           epochs=16, \n",
    "                           validation_data=([x1_test, x2_test, x3_test], y_test), \n",
    "                           verbose=1)\n",
    "plot_keras_training_hitory(history_hybrid)"
   ]
  },
  {
   "cell_type": "code",
   "execution_count": 9,
   "id": "wired-cannon",
   "metadata": {},
   "outputs": [
    {
     "name": "stdout",
     "output_type": "stream",
     "text": [
      "+-----+----------------------------------------------------+----------+\n",
      "|     | title                                              |   rating |\n",
      "|-----+----------------------------------------------------+----------|\n",
      "| 121 | Lord of the Rings: The Fellowship of the Ring, ... |        5 |\n",
      "| 155 | Freaks (1932)                                      |        5 |\n",
      "| 131 | Lord of the Rings: The Two Towers, The (2002)      |        5 |\n",
      "| 145 | Lord of the Rings: The Return of the King, The ... |        5 |\n",
      "|   0 | Jumanji (1995)                                     |        4 |\n",
      "| 106 | O Brother, Where Art Thou? (2000)                  |        4 |\n",
      "| 100 | Hook (1991)                                        |        4 |\n",
      "| 101 | Misery (1990)                                      |        4 |\n",
      "| 103 | Crouching Tiger, Hidden Dragon (Wo hu cang long... |        4 |\n",
      "| 104 | Dungeons & Dragons (2000)                          |        4 |\n",
      "+-----+----------------------------------------------------+----------+\n",
      "160 rows x 2 columns\n",
      "+----+-------------------------------------+----------+\n",
      "|    | title                               |   rating |\n",
      "|----+-------------------------------------+----------|\n",
      "|  0 | Penguins of Madagascar (2014)       |  4.2071  |\n",
      "|  1 | Nico and Dani (Krámpack) (2000)     |  4.19753 |\n",
      "|  2 | North & South (2004)                |  4.19016 |\n",
      "|  3 | Wild (2014)                         |  4.18598 |\n",
      "|  4 | Sweeney Todd (2006)                 |  4.1834  |\n",
      "|  5 | Stunt Man, The (1980)               |  4.17744 |\n",
      "|  6 | Twilight Zone: The Movie (1983)     |  4.17293 |\n",
      "|  7 | In Harm's Way (1965)                |  4.16616 |\n",
      "|  8 | Bella (2006)                        |  4.16578 |\n",
      "|  9 | Ballad of Jack and Rose, The (2005) |  4.16335 |\n",
      "+----+-------------------------------------+----------+\n",
      "10 rows x 2 columns\n"
     ]
    }
   ],
   "source": [
    "def recommend_for_user_hybrid(model, user_id, k):\n",
    "    x1, x2, x3 = np.repeat(user_id, n_items), item_ids, np.vstack(items['item_features'].values)\n",
    "    ratings = model.predict([x1, x2, x3]).ravel()\n",
    "    top_k_indexes = ratings.argsort()[-k:][::-1]\n",
    "    return x2[top_k_indexes], ratings[top_k_indexes]\n",
    "\n",
    "#\n",
    "# Generate recommendations for an example user\n",
    "#\n",
    "user_id = 0\n",
    "k_recomendations = 10\n",
    "print_df(get_items(user_id), col_width = 50, rows = 10)\n",
    "r_items, r_ratings = recommend_for_user_hybrid(model_hybrid_k, user_id, k_recomendations)\n",
    "show_recommendations(r_items, r_ratings)"
   ]
  },
  {
   "cell_type": "code",
   "execution_count": null,
   "id": "vanilla-honolulu",
   "metadata": {},
   "outputs": [],
   "source": []
  }
 ],
 "metadata": {
  "kernelspec": {
   "display_name": "Python 3 (ipykernel)",
   "language": "python",
   "name": "python3"
  },
  "language_info": {
   "codemirror_mode": {
    "name": "ipython",
    "version": 3
   },
   "file_extension": ".py",
   "mimetype": "text/x-python",
   "name": "python",
   "nbconvert_exporter": "python",
   "pygments_lexer": "ipython3",
   "version": "3.10.2"
  }
 },
 "nbformat": 4,
 "nbformat_minor": 5
}
