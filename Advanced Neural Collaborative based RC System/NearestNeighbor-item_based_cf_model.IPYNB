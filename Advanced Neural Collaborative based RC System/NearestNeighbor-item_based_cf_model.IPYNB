{
 "cells": [
  {
   "cell_type": "markdown",
   "metadata": {},
   "source": [
    "# Nearest Neighbour item-based collaborative filtering\n",
    "\n",
    "This is just a toy implementation, just to illustrate a clear understanding of item-based cf using a numerical example\n",
    "\n",
    "### Use Case\n",
    "We have a fixed number of users and iterms, and have interaction score only for few user-item pair. Now, our goal is to estimate the scores for the remaining user-item pairs.\n",
    "\n",
    "### Prototype: Approach and Data\n",
    "We are using a standard Nearest Neighbour Item-based Collaborative Filtering Algorithm. for which we have our custom-defined rating matrix for this demonstration purpose. No external datasets are used."
   ]
  },
  {
   "cell_type": "code",
   "execution_count": 1,
   "metadata": {},
   "outputs": [],
   "source": [
    "import numpy as np \n",
    "\n",
    "X = np.nan\n",
    "\n",
    "R = np.array([\n",
    "[5, 4, X, 1, 2, 1],\n",
    "[4, X, 3, 1, 1, 2],\n",
    "[X, 5, 5, X, 3, 3],\n",
    "[2, X, 1, 4, 5, 4],\n",
    "[2, 2, 2, X, 4, X],\n",
    "[1, 2, 1, X, 5, 4]\n",
    "])"
   ]
  },
  {
   "cell_type": "code",
   "execution_count": 2,
   "metadata": {},
   "outputs": [],
   "source": [
    "# Define common variables and helper functions\n",
    "\n",
    "n, m = R.shape\n",
    "\n",
    "def known(r):\n",
    "    return not np.isnan(r)\n",
    "\n",
    "def known_item_ratings(R,i):\n",
    "    return [r for r in R[:,i] if known(r)]\n",
    "\n",
    "def item_common_ratings(R, i, j):\n",
    "    return np.array(list(filter(\n",
    "        lambda r: all(known(val) for val in r),\n",
    "        np.column_stack((R[:,i], R[:,j]))\n",
    "    )))\n",
    "\n",
    "def mean_r(R,i):\n",
    "    return np.mean(known_item_ratings(R,i))"
   ]
  },
  {
   "cell_type": "code",
   "execution_count": 3,
   "metadata": {},
   "outputs": [],
   "source": [
    "# Calculating the matrix of item similarities\n",
    "def similarity(R, i, j):\n",
    "    U_ij = item_common_ratings(R,i,j)\n",
    "    mu_i = mean_r(R, i)\n",
    "    mu_j = mean_r(R, j)\n",
    "    return sum([\n",
    "        ((U_ij[u,0] - mu_i)*(U_ij[u,1] - mu_j))/\n",
    "        (np.linalg.norm(U_ij[:,0]-mu_i) * np.linalg.norm(U_ij[:,1] - mu_j))\n",
    "        for u in range(U_ij.shape[0])])\n",
    "\n",
    "item_similarity = np.array([[\n",
    "    similarity(R, i, j)\n",
    "    for i in range(m)] for j in range(m)])\n"
   ]
  },
  {
   "cell_type": "code",
   "execution_count": 4,
   "metadata": {},
   "outputs": [
    {
     "name": "stdout",
     "output_type": "stream",
     "text": [
      "User 0, item 2 <- item neighbors [1, 0]\n",
      "User 1, item 1 <- item neighbors [2, 0]\n",
      "User 2, item 0 <- item neighbors [2, 1]\n",
      "User 2, item 3 <- item neighbors [4, 5]\n",
      "User 3, item 1 <- item neighbors [2, 0]\n",
      "User 4, item 3 <- item neighbors [4, 0]\n",
      "User 4, item 5 <- item neighbors [4, 1]\n",
      "User 5, item 3 <- item neighbors [4, 5]\n",
      "\n",
      "Complete rating matrix:\n",
      "[[5.   4.   4.5  1.   2.   1.  ]\n",
      " [4.   3.49 3.   1.   1.   2.  ]\n",
      " [5.   5.   5.   3.   3.   3.  ]\n",
      " [2.   1.49 1.   4.   5.   4.  ]\n",
      " [2.   2.   2.   1.23 4.   1.81]\n",
      " [1.   2.   1.   4.51 5.   4.  ]]\n"
     ]
    }
   ],
   "source": [
    "# Predict ratings based on the item similarities\n",
    "k = 2 # neighbourhood size\n",
    "\n",
    "def predict_rating(R, u, i):\n",
    "    # neighbours sorted by similarity\n",
    "    all_neighbours = np.argsort(item_similarity[i])[::-1]\n",
    "\n",
    "    #remove neighbours withour ratings for u and select top k\n",
    "    neighbors = list(filter(lambda j: known(R[u,j]) and not i==j, all_neighbours))[:k]\n",
    "    score = 0\n",
    "    norm = 0\n",
    "    print(\"User %s, item %s <- item neighbors %s\" % (u, i, neighbors))\n",
    "\n",
    "    for j in neighbors:\n",
    "        score = score + item_similarity[i,j]*R[u,j]\n",
    "        norm = norm + abs(item_similarity[i,j])\n",
    "    return score/norm\n",
    "\n",
    "ratings = np.array([[ R[u,i] if known(R[u,i]) else predict_rating(R, u, i)\n",
    "                     for i in range(m)] for u in range(n)])\n",
    "\n",
    "print(\"\\nComplete rating matrix:\")\n",
    "np.set_printoptions(precision=2)\n",
    "print(ratings)"
   ]
  }
 ],
 "metadata": {
  "kernelspec": {
   "display_name": "Python 3",
   "language": "python",
   "name": "python3"
  },
  "language_info": {
   "codemirror_mode": {
    "name": "ipython",
    "version": 3
   },
   "file_extension": ".py",
   "mimetype": "text/x-python",
   "name": "python",
   "nbconvert_exporter": "python",
   "pygments_lexer": "ipython3",
   "version": "3.11.4"
  }
 },
 "nbformat": 4,
 "nbformat_minor": 2
}
